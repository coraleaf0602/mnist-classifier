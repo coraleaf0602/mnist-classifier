{
 "cells": [
  {
   "cell_type": "code",
   "execution_count": 1,
   "metadata": {},
   "outputs": [],
   "source": [
    "import torch\n",
    "import torch.nn as nn\n",
    "from torch.optim import SGD\n",
    "import torch.nn.functional as F\n",
    "from torch.utils.data import Dataset, DataLoader\n",
    "import torchvision\n",
    "import numpy as np\n",
    "import torchvision.transforms as transforms \n",
    "import matplotlib.pyplot as plt\n",
    "from PIL import Image"
   ]
  },
  {
   "cell_type": "code",
   "execution_count": 2,
   "metadata": {},
   "outputs": [],
   "source": [
    "class CTDataset(Dataset):\n",
    "    def __init__(self, filepath):\n",
    "        self.x, self.y = torch.load(filepath)\n",
    "        self.x = self.x / 255. \n",
    "        # Normalises the input data to scale pixel values from 0 to 1 \n",
    "        # A pixel value typically ranges from 0 (black) to 255 (white) for 8-bit images \n",
    "        \n",
    "        self.y = F.one_hot(self.y, num_classes=10).to(float)\n",
    "    def __len__(self): \n",
    "        return self.x.shape[0]\n",
    "    def __getitem__(self, ix): \n",
    "        return self.x[ix], self.y[ix]"
   ]
  },
  {
   "cell_type": "markdown",
   "metadata": {},
   "source": [
    "Neural network model using the nn.Module base class \n",
    "Designed for a classificiation task with 10 classes \n",
    "Composed of three fully connected linear layers separated by ReLY activation functions "
   ]
  },
  {
   "cell_type": "code",
   "execution_count": 3,
   "metadata": {},
   "outputs": [],
   "source": [
    "class MyNeuralNet(nn.Module):\n",
    "    def __init__(self):\n",
    "        super().__init__()\n",
    "        # These layers will perform linear transformations on the input data \n",
    "        self.Matrix1 = nn.Linear(28**2,100)\n",
    "        # First layer input size - 784 pixels \n",
    "        self.Matrix2 = nn.Linear(100,50)\n",
    "        # Second layer: 100 units \n",
    "        self.Matrix3 = nn.Linear(50,10)\n",
    "        # Third layer: 50 units \n",
    "        self.R = nn.ReLU()\n",
    "    def forward(self,x):\n",
    "        x = x.view(-1,28**2)\n",
    "        # The ReLU activation (backprop) is applied after each linear layer \n",
    "        # to introduce non-linearity to the model \n",
    "        x = self.R(self.Matrix1(x))\n",
    "        x = self.R(self.Matrix2(x))\n",
    "        x = self.Matrix3(x)\n",
    "        #return x.squeeze()\n",
    "        return x\n",
    "        # The squeeze method removes any dimensions of size 1 "
   ]
  },
  {
   "cell_type": "markdown",
   "metadata": {},
   "source": [
    "Trains a neural network model using stochastic gradient descent SGD for a specified number of epochs on a given dataset dl while recording the training losses and the progress of each epoch \n",
    "\n",
    "Epoch - one complete pass through the entire training data set "
   ]
  },
  {
   "cell_type": "code",
   "execution_count": 4,
   "metadata": {},
   "outputs": [],
   "source": [
    "def train_model(dl, f, n_epochs=20):\n",
    "    # Optimization\n",
    "    opt = SGD(f.parameters(), lr=0.01)\n",
    "    # Initialised the SGD optimiser \n",
    "    # Learning rate of 0.01 - the optimiser should make relatively large \n",
    "    # adjustments to the models parameters pased on the computer gradients \n",
    "    L = nn.CrossEntropyLoss()\n",
    "\n",
    "    # Train model\n",
    "    losses = []\n",
    "    epochs = []\n",
    "    for epoch in range(n_epochs):\n",
    "        print(f'Epoch {epoch}')\n",
    "        N = len(dl)\n",
    "        for i, (x, y) in enumerate(dl):\n",
    "            \n",
    "            opt.zero_grad() \n",
    "            # Initialises the gradients to 0 \n",
    "            loss_value = L(f(x), y) \n",
    "            # Calculates loss by using Cross-Entropy Loss function \n",
    "            loss_value.backward() \n",
    "            # Computes the gradients of the loss wrt to the model's parameters (weights)\n",
    "            opt.step() \n",
    "            # Update the weights of the network\n",
    "            \n",
    "            # Store training data\n",
    "            epochs.append(epoch+i/N)\n",
    "            losses.append(loss_value.item())\n",
    "    return np.array(epochs), np.array(losses)"
   ]
  },
  {
   "cell_type": "markdown",
   "metadata": {},
   "source": [
    "Trains the model - takes in the MNIST training data set "
   ]
  },
  {
   "cell_type": "code",
   "execution_count": 6,
   "metadata": {},
   "outputs": [],
   "source": [
    "def mnist(train_ds):\n",
    "\n",
    "    train_dl = DataLoader(train_ds, batch_size=5)\n",
    "     # Batch size = 5, the length of train_dl = 12000\n",
    "    # Useful for breaking up the data into batches \n",
    "\n",
    "    L = nn.CrossEntropyLoss()\n",
    "    neuralModel = MyNeuralNet() \n",
    "\n",
    "    # print(L(neuralModel(xs), ys))\n",
    "    # The loss function needs to be as small as possible \n",
    "    # The weights in neuralModel needs to be adjust so that L is asap\n",
    "    \n",
    "    \n",
    "    # train_model(train_dl, neuralModel)\n",
    "    epoch_data, loss_data = train_model(train_dl, neuralModel)\n",
    "    # Shows the loss as a graph \n",
    "    epoch_data_avgd = epoch_data.reshape(20,-1).mean(axis=1)\n",
    "    loss_data_avgd = loss_data.reshape(20,-1).mean(axis=1)\n",
    "\n",
    "    plt.plot(epoch_data_avgd, loss_data_avgd, 'o--')\n",
    "    plt.xlabel('Epoch Number')\n",
    "    plt.ylabel('Cross Entropy')\n",
    "    plt.title('Cross Entropy (avgd per epoch)')\n",
    "    plt.show()\n",
    "    return neuralModel"
   ]
  },
  {
   "cell_type": "markdown",
   "metadata": {},
   "source": [
    "Transforms a tensor to an image "
   ]
  },
  {
   "cell_type": "code",
   "execution_count": 10,
   "metadata": {},
   "outputs": [],
   "source": [
    "def tensorToImage(tensor):\n",
    "    transform = transforms.ToPILImage()\n",
    "    img = transform(tensor)\n",
    "    return img"
   ]
  },
  {
   "cell_type": "markdown",
   "metadata": {},
   "source": [
    "Transforms an image to a tensor"
   ]
  },
  {
   "cell_type": "code",
   "execution_count": 12,
   "metadata": {},
   "outputs": [],
   "source": [
    "def imageToTensor(imageName):   \n",
    "    # Read a PIL image \n",
    "    image = Image.open('imageName') \n",
    "    # Define a transform to convert PIL image to a Torch tensor \n",
    "    transform = transforms.Compose([ transforms.PILToTensor() ]) \n",
    "    # transform = transforms.PILToTensor() \n",
    "    # Convert the PIL image to Torch tensor \n",
    "    img_tensor = transform(image) \n",
    "    return img_tensor; "
   ]
  },
  {
   "cell_type": "code",
   "execution_count": 13,
   "metadata": {},
   "outputs": [],
   "source": [
    "def main():\n",
    "    \n",
    "    # Tests the first function \n",
    "    train_dataset = CTDataset('/Users/zhangc/Documents/Formula Trinity/MNIST/processed/training.pt')\n",
    "    test_dataset = CTDataset('/Users/zhangc/Documents/Formula Trinity/MNIST/processed/test.pt')\n",
    "    testImage, testLabel = test_dataset[1]\n",
    "    \n",
    "    tensorImage = tensorToImage(testImage)\n",
    "    tensorImage.show()\n",
    "    # Predicted label \n",
    "    # returns the predicted integer for the image \n",
    "    neuralModel = mnist(train_dataset)\n",
    "    yhats = neuralModel(testImage).argmax(axis=1)\n",
    "    print(yhats.item())\n",
    "    \n",
    "    # contains all the predictions for the 2000 images in test_ds \n",
    "    #The argmax(axis=1) is applied to find the class with the highest probability for each image \n",
    "\n",
    "    # testImages, testLabels = test_dataset[:2000]\n",
    "    # yhats = neuralModel(testImages).argmax(axis=1)\n",
    "    \n",
    "    # # Plotting 40 images \n",
    "    # fig, ax = plt.subplots(10,4,figsize=(10,15))\n",
    "    # for i in range(40):\n",
    "    #     plt.subplot(10,4,i+1)\n",
    "    #     plt.imshow(testImages[i])\n",
    "    #     plt.title(f'Predicted Digit: {yhats[i]}')\n",
    "    # fig.tight_layout()\n",
    "    # plt.show()\n",
    "    "
   ]
  },
  {
   "cell_type": "code",
   "execution_count": 14,
   "metadata": {},
   "outputs": [
    {
     "name": "stdout",
     "output_type": "stream",
     "text": [
      "Epoch 0\n",
      "Epoch 1\n",
      "Epoch 2\n",
      "Epoch 3\n",
      "Epoch 4\n",
      "Epoch 5\n",
      "Epoch 6\n",
      "Epoch 7\n",
      "Epoch 8\n",
      "Epoch 9\n",
      "Epoch 10\n",
      "Epoch 11\n",
      "Epoch 12\n",
      "Epoch 13\n",
      "Epoch 14\n",
      "Epoch 15\n",
      "Epoch 16\n",
      "Epoch 17\n",
      "Epoch 18\n",
      "Epoch 19\n"
     ]
    },
    {
     "data": {
      "image/png": "[encoded data removed]",
      "text/plain": [
       "<Figure size 640x480 with 1 Axes>"
      ]
     },
     "metadata": {},
     "output_type": "display_data"
    },
    {
     "name": "stdout",
     "output_type": "stream",
     "text": [
      "2\n"
     ]
    }
   ],
   "source": [
    "\n",
    "if __name__ == \"__main__\":\n",
    "    main()"
   ]
  }
 ],
 "metadata": {
  "kernelspec": {
   "display_name": "Python 3",
   "language": "python",
   "name": "python3"
  },
  "language_info": {
   "codemirror_mode": {
    "name": "ipython",
    "version": 3
   },
   "file_extension": ".py",
   "mimetype": "text/x-python",
   "name": "python",
   "nbconvert_exporter": "python",
   "pygments_lexer": "ipython3",
   "version": "3.9.6"
  }
 },
 "nbformat": 4,
 "nbformat_minor": 2
}
